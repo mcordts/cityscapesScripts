{
 "cells": [
  {
   "cell_type": "markdown",
   "metadata": {},
   "source": [
    "# Box 3D Image Transform\n",
    "This notebook is intended to demonstrate the differences of the different coordinate systems used for 3D Boxes.\n",
    "In general, 4 different coordinate systems are used with 3 of them are already described in https://github.com/mcordts/cityscapesScripts/blob/master/docs/csCalibration.pdf\n",
    "1. The vehicle coordinate system *V* according to ISO 8855 with the origin on the ground below of the rear axis center, *x* pointing in driving direction, *y* pointing left, and *z* pointing up.\n",
    "2. The camera coordinate system *C* with the origin in the camera’s optical center and same orientation as *V*.\n",
    "3. The image coordinate system *I* with the origin in the top-left image pixel, *u* pointing right, *v* pointing down.\n",
    "4. In addition, we also add the coordinate system *S* with the same origin as *C*, but the orientation of *I*, ie. *x* pointing right, *y* down and *z* into the driving direction.\n",
    "\n",
    "All GT annotations are given in the ISO coordinate system *V* and hence, the evaluation requires the data to be available in this coordinate system.\n",
    "\n",
    "In this notebook, the transformations between all these coordinate frames are described exemplarily by loading a 3D box annotation and calculate the projection into 2D image, ie. coordinate system *I*."
   ]
  },
  {
   "cell_type": "markdown",
   "metadata": {},
   "source": [
    "### Sample annotation"
   ]
  },
  {
   "cell_type": "code",
   "execution_count": 1,
   "metadata": {},
   "outputs": [],
   "source": [
    "sample_annotation = {\n",
    "    \"sensor\": {\n",
    "        \"sensor_T_ISO_8855\": [\n",
    "            [\n",
    "                0.9990881051503779,\n",
    "                -0.01948468779721943,\n",
    "                -0.03799085532693703,\n",
    "                -1.6501524664770573\n",
    "            ],\n",
    "            [\n",
    "                0.019498764210995674,\n",
    "                0.9998098810245096,\n",
    "                0.0,\n",
    "                -0.1331288872611436\n",
    "            ],\n",
    "            [\n",
    "                0.03798363254444427,\n",
    "                -0.0007407747301939942,\n",
    "                0.9992780868764849,\n",
    "                -1.2836173638418473\n",
    "            ]\n",
    "        ],\n",
    "        \"fx\": 2262.52,\n",
    "        \"fy\": 2265.3017905988554,\n",
    "        \"u0\": 1096.98,\n",
    "        \"v0\": 513.137,\n",
    "        \"baseline\": 0.209313,\n",
    "        \"image_height\": 1024,\n",
    "        \"image_width\": 2048\n",
    "    },\n",
    "    \"annotation\": [\n",
    "        {\n",
    "            \"2d\": {\n",
    "                \"modal\": [\n",
    "                    609,\n",
    "                    420,\n",
    "                    807,\n",
    "                    531\n",
    "                ],\n",
    "                \"amodal\": [\n",
    "                    602,\n",
    "                    415,\n",
    "                    816,\n",
    "                    533\n",
    "                ]\n",
    "            },\n",
    "            \"3d\": {\n",
    "                \"center\": [\n",
    "                    33.95,\n",
    "                    5.05,\n",
    "                    0.57\n",
    "                ],\n",
    "                \"dimensions\": [\n",
    "                    4.3,\n",
    "                    1.72,\n",
    "                    1.53\n",
    "                ],\n",
    "                \"rotation\": [\n",
    "                    0.9735839424380041,\n",
    "                    -0.010751769161021867,\n",
    "                    0.0027191710555974913,\n",
    "                    0.22805988817753894\n",
    "                ],\n",
    "                \"type\": \"Mid Size Car\",\n",
    "                \"format\": \"CRS_ISO8855\"\n",
    "            },\n",
    "            \"occlusion\": 0.0,\n",
    "            \"truncation\": 0.0,\n",
    "            \"instance_id\": 26010,\n",
    "            \"class_name\": \"car\",\n",
    "            \"score\": 1.0\n",
    "        }\n",
    "    ]\n",
    "}"
   ]
  },
  {
   "cell_type": "markdown",
   "metadata": {},
   "source": [
    "### Python imports"
   ]
  },
  {
   "cell_type": "code",
   "execution_count": 2,
   "metadata": {},
   "outputs": [],
   "source": [
    "import numpy as np\n",
    "from cityscapesscripts.helpers.box3d import (\n",
    "    Camera, \n",
    "    Box3DImageTransform,\n",
    "    CRS_V,\n",
    "    CRS_C,\n",
    "    CRS_S\n",
    ")"
   ]
  },
  {
   "cell_type": "markdown",
   "metadata": {},
   "source": [
    "### Create the camera\n",
    "``sensor_T_ISO_8855`` is the transformation matrix from coordinate system *V* to *C*."
   ]
  },
  {
   "cell_type": "code",
   "execution_count": 3,
   "metadata": {},
   "outputs": [],
   "source": [
    "camera = Camera(fx=sample_annotation[\"sensor\"][\"fx\"],\n",
    "                fy=sample_annotation[\"sensor\"][\"fy\"],\n",
    "                u0=sample_annotation[\"sensor\"][\"u0\"],\n",
    "                v0=sample_annotation[\"sensor\"][\"v0\"],\n",
    "                sensor_T_ISO_8855=sample_annotation[\"sensor\"][\"sensor_T_ISO_8855\"])"
   ]
  },
  {
   "cell_type": "markdown",
   "metadata": {},
   "source": [
    "### Load the annotation\n",
    "As the annotation is given in coordinate system *V*, it must be transformed from *V* &#8594; *C* &#8594; *S* &#8594; *I*."
   ]
  },
  {
   "cell_type": "code",
   "execution_count": 4,
   "metadata": {},
   "outputs": [
    {
     "name": "stdout",
     "output_type": "stream",
     "text": [
      "[4.3  1.72 1.53] [4.3  1.72 1.53] [4.3  1.72 1.53]\n",
      "[33.95  5.05  0.57] [33.95  5.05  0.57] [33.95  5.05  0.57]\n",
      "0.974 -0.011i +0.003j +0.228k \n",
      " 0.974 -0.011i +0.003j +0.228k \n",
      " 0.974 -0.011i +0.003j +0.228k\n",
      "[26.36765120458783, 0.02237904494421823, -1.2706821318527146]\n",
      "[26.36765120458783, 0.022379044944217878, -1.2706821318527146]\n",
      "[26.36765120458783, 0.022379044944218676, -1.2706821318527128]\n"
     ]
    }
   ],
   "source": [
    "# Create the Box3DImageTransform object\n",
    "box3d_annotation = Box3DImageTransform(camera=camera)\n",
    "\n",
    "# Initialize the 3D box with an annotation in coordinate system V. \n",
    "# You can alternatively pass CRS_S or CRS_C if you want to initalize the box in a different coordinate system.\n",
    "box3d_annotation.initialize_box(size=sample_annotation[\"annotation\"][0][\"3d\"][\"dimensions\"],\n",
    "                              quaternion=sample_annotation[\"annotation\"][0][\"3d\"][\"rotation\"],\n",
    "                              center=sample_annotation[\"annotation\"][0][\"3d\"][\"center\"],\n",
    "                              coordinate_system=CRS_V)\n",
    "size_V, center_V, rotation_V = box3d_annotation.get_parameters(coordinate_system=CRS_V)\n",
    "\n",
    "# Values in C\n",
    "size_C, center_C, rotation_C = box3d_annotation.get_parameters(coordinate_system=CRS_C)\n",
    "box3d_annotation.initialize_box(size=size_C,\n",
    "                              quaternion=rotation_C,\n",
    "                              center=center_C,\n",
    "                              coordinate_system=CRS_C)\n",
    "size_VV, center_VV, rotation_VV = box3d_annotation.get_parameters(coordinate_system=CRS_V)\n",
    "\n",
    "# Values in S\n",
    "size_S, center_S, rotation_S = box3d_annotation.get_parameters(coordinate_system=CRS_S)\n",
    "box3d_annotation.initialize_box(size=size_S,\n",
    "                              quaternion=rotation_S,\n",
    "                              center=center_S,\n",
    "                              coordinate_system=CRS_S)\n",
    "size_VVV, center_VVV, rotation_VVV = box3d_annotation.get_parameters(coordinate_system=CRS_V)\n",
    "\n",
    "print(size_V, size_VV, size_VVV)\n",
    "print(center_V, center_VV, center_VVV)\n",
    "print(rotation_V, \"\\n\", rotation_VV, \"\\n\", rotation_VVV)\n",
    "print([np.degrees(x) for x in rotation_V.yaw_pitch_roll])\n",
    "print([np.degrees(x) for x in rotation_VV.yaw_pitch_roll])\n",
    "print([np.degrees(x) for x in rotation_VVV.yaw_pitch_roll])"
   ]
  },
  {
   "cell_type": "markdown",
   "metadata": {},
   "source": [
    "### Print coordinates of cuboid vertices"
   ]
  },
  {
   "cell_type": "code",
   "execution_count": 5,
   "metadata": {},
   "outputs": [
    {
     "name": "stdout",
     "output_type": "stream",
     "text": [
      "Vertices in V:\n",
      "         x[m]     y[m]     z[m]\n",
      "BLB:    31.64     4.85    -0.19\n",
      "BRB:    32.41     3.31    -0.16\n",
      "FRB:    36.26     5.22    -0.20\n",
      "FLB:    35.49     6.76    -0.23\n",
      "BLT:    31.64     4.88     1.34\n",
      "BRT:    32.41     3.34     1.37\n",
      "FRT:    36.26     5.25     1.33\n",
      "FLT:    35.49     6.79     1.30\n",
      "\n",
      "Vertices in C:\n",
      "         x[m]     y[m]     z[m]\n",
      "BLB:    29.88     5.33    -0.28\n",
      "BRB:    30.67     3.81    -0.21\n",
      "FRB:    34.48     5.79    -0.11\n",
      "FLB:    33.69     7.32    -0.17\n",
      "BLT:    29.82     5.37     1.25\n",
      "BRT:    30.61     3.84     1.32\n",
      "FRT:    34.42     5.82     1.42\n",
      "FLT:    33.63     7.35     1.35\n",
      "\n",
      "Vertices in S:\n",
      "         x[m]     y[m]     z[m]\n",
      "BLB:    -5.33     0.28    29.88\n",
      "BRB:    -3.81     0.21    30.67\n",
      "FRB:    -5.79     0.11    34.48\n",
      "FLB:    -7.32     0.17    33.69\n",
      "BLT:    -5.37    -1.25    29.82\n",
      "BRT:    -3.84    -1.32    30.61\n",
      "FRT:    -5.82    -1.42    34.42\n",
      "FLT:    -7.35    -1.35    33.63\n"
     ]
    }
   ],
   "source": [
    "# Get the vertices of the 3D box in the requested coordinate frame\n",
    "box_vertices_V = box3d_annotation.get_vertices(coordinate_system=CRS_V)\n",
    "box_vertices_C = box3d_annotation.get_vertices(coordinate_system=CRS_C)\n",
    "box_vertices_S = box3d_annotation.get_vertices(coordinate_system=CRS_S)\n",
    "\n",
    "# Print the vertices of the box.\n",
    "# loc is encoded with a 3-char code\n",
    "#   0: B/F: Back or Front\n",
    "#   1: L/R: Left or Right\n",
    "#   2: B/T: Bottom or Top\n",
    "# BLT -> Back left top of the object\n",
    "\n",
    "# Print in V coordinate system\n",
    "print(\"Vertices in V:\")\n",
    "print(\"     %8s %8s %8s\" % (\"x[m]\", \"y[m]\", \"z[m]\"))\n",
    "for loc, coord in box_vertices_V.items():\n",
    "    print(\"%s: %8.2f %8.2f %8.2f\" % (loc, coord[0], coord[1], coord[2]))\n",
    "    \n",
    "# Print in C coordinate system\n",
    "print(\"\\nVertices in C:\")\n",
    "print(\"     %8s %8s %8s\" % (\"x[m]\", \"y[m]\", \"z[m]\"))\n",
    "for loc, coord in box_vertices_C.items():\n",
    "    print(\"%s: %8.2f %8.2f %8.2f\" % (loc, coord[0], coord[1], coord[2]))\n",
    "    \n",
    "# Print in S coordinate system\n",
    "print(\"\\nVertices in S:\")\n",
    "print(\"     %8s %8s %8s\" % (\"x[m]\", \"y[m]\", \"z[m]\"))\n",
    "for loc, coord in box_vertices_S.items():\n",
    "    print(\"%s: %8.2f %8.2f %8.2f\" % (loc, coord[0], coord[1], coord[2]))"
   ]
  },
  {
   "cell_type": "markdown",
   "metadata": {},
   "source": [
    "### Print box parameters"
   ]
  },
  {
   "cell_type": "code",
   "execution_count": 6,
   "metadata": {},
   "outputs": [
    {
     "name": "stdout",
     "output_type": "stream",
     "text": [
      "[4.3  1.72 1.53] [33.95  5.05  0.57] 0.974 -0.011i +0.003j +0.228k\n",
      "[4.3  1.72 1.53] [32.29984753  4.91687111 -0.71361736] 0.971 -0.007i -0.016j +0.238k\n",
      "[4.3  1.72 1.53] [-4.91687111  0.71361736 32.29984753] 0.971 -0.007i -0.016j +0.238k\n"
     ]
    }
   ],
   "source": [
    "# Similar to the box vertices, you can retrieve box parameters center, size and rotation in any coordinate system\n",
    "size_V, center_V, rotation_V = box3d_annotation.get_parameters(coordinate_system=CRS_V)\n",
    "size_C, center_C, rotation_C = box3d_annotation.get_parameters(coordinate_system=CRS_C)\n",
    "size_S, center_S, rotation_S = box3d_annotation.get_parameters(coordinate_system=CRS_S)\n",
    "\n",
    "print(size_V, center_V, rotation_V)\n",
    "print(size_C, center_C, rotation_C)\n",
    "print(size_S, center_S, rotation_S)"
   ]
  },
  {
   "cell_type": "markdown",
   "metadata": {},
   "source": [
    "### Get 2D image coordinates"
   ]
  },
  {
   "cell_type": "code",
   "execution_count": 7,
   "metadata": {},
   "outputs": [
    {
     "name": "stdout",
     "output_type": "stream",
     "text": [
      "\n",
      "        u[px]    v[px]\n",
      "BLB:   693.20   533.99\n",
      "BRB:   816.17   528.73\n",
      "FRB:   717.05   520.36\n",
      "FLB:   605.66   524.83\n",
      "BLT:   689.84   417.91\n",
      "BRT:   813.13   415.63\n",
      "FRT:   714.17   419.78\n",
      "FLT:   602.53   421.89\n"
     ]
    }
   ],
   "source": [
    "# Get the vertices of the 3D box in the image coordinates\n",
    "box_vertices_I = box3d_annotation.get_vertices_2d()\n",
    "\n",
    "# Print the vertices of the box.\n",
    "# loc is encoded with a 3-char code\n",
    "#   0: B/F: Back or Front\n",
    "#   1: L/R: Left or Right#\n",
    "#   2: B/T: Bottom or Top\n",
    "# BLT -> Back left top of the object\n",
    "\n",
    "print(\"\\n     %8s %8s\" % (\"u[px]\", \"v[px]\"))\n",
    "for loc, coord in box_vertices_I.items():\n",
    "    print(\"%s: %8.2f %8.2f\" % (loc, coord[0], coord[1]))"
   ]
  },
  {
   "cell_type": "code",
   "execution_count": null,
   "metadata": {},
   "outputs": [],
   "source": []
  }
 ],
 "metadata": {
  "kernelspec": {
   "display_name": "Python 3",
   "language": "python",
   "name": "python3"
  },
  "language_info": {
   "codemirror_mode": {
    "name": "ipython",
    "version": 3
   },
   "file_extension": ".py",
   "mimetype": "text/x-python",
   "name": "python",
   "nbconvert_exporter": "python",
   "pygments_lexer": "ipython3",
   "version": "3.6.7"
  }
 },
 "nbformat": 4,
 "nbformat_minor": 4
}
